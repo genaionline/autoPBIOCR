{
 "cells": [
  {
   "cell_type": "code",
   "execution_count": 1,
   "id": "c4cce984",
   "metadata": {},
   "outputs": [],
   "source": [
    "import configparser\n",
    "import os\n",
    "from powerbiclient.authentication import DeviceCodeLoginAuthentication\n",
    "from powerbiclient import Report, models"
   ]
  },
  {
   "cell_type": "code",
   "execution_count": null,
   "id": "2b4092de",
   "metadata": {},
   "outputs": [],
   "source": [
    "device_auth = DeviceCodeLoginAuthentication()\n",
    "group_id = \"e5122c64-1bae-4c59-85ce-35484f92f8df\"\n",
    "report_id = \"2f91863f-3a73-4edf-b74b-f011f0debd4e\""
   ]
  },
  {
   "cell_type": "code",
   "execution_count": 3,
   "id": "8fe2363e",
   "metadata": {},
   "outputs": [],
   "source": [
    "report = Report(group_id=group_id, report_id=report_id, auth=device_auth)"
   ]
  },
  {
   "cell_type": "code",
   "execution_count": 5,
   "id": "4742ea4c",
   "metadata": {},
   "outputs": [
    {
     "name": "stdout",
     "output_type": "stream",
     "text": [
      "Report()\n"
     ]
    }
   ],
   "source": [
    "print(report)"
   ]
  },
  {
   "cell_type": "code",
   "execution_count": 11,
   "id": "754c7b00",
   "metadata": {},
   "outputs": [],
   "source": [
    "# 2. 获取访问令牌（用于 REST API）\n",
    "access_token = device_auth.get_access_token()\n",
    "\n",
    "# 3. 调用 Power BI REST API 导出 PDF\n",
    "export_url = f\"https://api.powerbi.com/v1.0/myorg/groups/{group_id}/reports/{report_id}/ExportTo\"\n",
    "\n",
    "headers = {\n",
    "    \"Authorization\": f\"Bearer {access_token}\",\n",
    "    \"Content-Type\": \"application/json\"\n",
    "}\n"
   ]
  },
  {
   "cell_type": "code",
   "execution_count": null,
   "id": "f655c8ee",
   "metadata": {},
   "outputs": [],
   "source": [
    "print(access_token)"
   ]
  },
  {
   "cell_type": "code",
   "execution_count": null,
   "id": "c054d659",
   "metadata": {},
   "outputs": [],
   "source": [
    "import requests\n",
    "#  4. 发起导出请求\n",
    "response = requests.post(\n",
    "    export_url,\n",
    "    headers=headers,\n",
    "    json={\n",
    "        \"format\": \"PDF\",\n",
    "        \"powerBIReportConfiguration\": {\n",
    "            \"settings\": {\n",
    "                \"locale\": \"en-US\"  # 可选：设置语言\n",
    "            },\n",
    "            \"pages\": []  # 可选：指定要导出的页面（空数组表示全部）\n",
    "        }\n",
    "    }\n",
    ")"
   ]
  },
  {
   "cell_type": "code",
   "execution_count": null,
   "id": "2a93d453",
   "metadata": {},
   "outputs": [
    {
     "name": "stdout",
     "output_type": "stream",
     "text": [
      "导出已开始，ID: Mi9CbG9iSWRWMi04ZjMxNjAyYS1iZDNiLTRhYmMtOTA1OC0yMTIyNGViODE0ZGJWSGliT1BFNU5GWVRJVEh5elA4M3JIWUlHUU5pOTk1MEZBNDBBanVmZ2ZFPS4=\n",
      "导出成功！\n",
      "PDF 已保存到本地！\n"
     ]
    }
   ],
   "source": [
    "# 5. 检查导出状态\n",
    "if response.status_code == 202:\n",
    "    export_id = response.headers.get(\"Location\").split(\"/\")[-1]\n",
    "    print(f\"导出已开始, ID: {export_id}\")\n",
    "    \n",
    "    # 6. 轮询导出状态\n",
    "    status_url = f\"https://api.powerbi.com/v1.0/myorg/groups/{group_id}/reports/{report_id}/exports/{export_id}\"\n",
    "    \n",
    "    import time\n",
    "    while True:\n",
    "        status_response = requests.get(status_url, headers=headers)\n",
    "        status_data = status_response.json()\n",
    "        \n",
    "        if status_data[\"status\"] == \"Succeeded\":\n",
    "            print(\"导出成功！\")\n",
    "            break\n",
    "        elif status_data[\"status\"] == \"Failed\":\n",
    "            print(f\"导出失败: {status_data.get('error', '未知错误')}\")\n",
    "            break\n",
    "        else:\n",
    "            print(f\"导出状态: {status_data['status']}，等待 5 秒...\")\n",
    "            time.sleep(5)\n",
    "    \n",
    "    # 7. 下载 PDF\n",
    "    if status_data[\"status\"] == \"Succeeded\":\n",
    "        pdf_url = status_data[\"resourceLocation\"]\n",
    "        pdf_response = requests.get(pdf_url, headers=headers)\n",
    "        \n",
    "        with open(\"exported_report.pdf\", \"wb\") as f:\n",
    "            f.write(pdf_response.content)\n",
    "        print(\"PDF 已保存到本地！\")\n",
    "else:\n",
    "    print(f\"导出请求失败: {response.status_code} - {response.text}\")"
   ]
  },
  {
   "cell_type": "code",
   "execution_count": 17,
   "id": "dd11b7d0",
   "metadata": {},
   "outputs": [
    {
     "data": {
      "text/plain": [
       "'\\n# 筛选器配置示例\\nfilters = {\\n    \"format\": \"PDF\",\\n    \"powerBIReportConfiguration\": {\\n        \"settings\": {\\n            \"locale\": \"en-US\"\\n        },\\n        \"identities\": [\\n            {\\n                \"username\": \"effective_user@domain.com\",  # 可选的用户身份\\n                \"roles\": [\"RoleName\"],  # 可选的角色\\n                \"datasets\": [\"dataset_id\"]  # 可选的数据集ID\\n            }\\n        ],\\n        \"filters\": [\\n            {\\n                \"filter\": \"TableName/ColumnName\",  # 表名/列名\\n                \"operator\": \"In\",  # 操作符：In, NotIn, Contains, DoesNotContain等\\n                \"values\": [\"Value1\", \"Value2\"]  # 筛选值\\n            },\\n            # 可以添加多个筛选器\\n            {\\n                \"filter\": \"AnotherTable/AnotherColumn\",\\n                \"operator\": \"In\",\\n                \"values\": [\"Value3\"]\\n            }\\n        ]\\n    }\\n}\\n'"
      ]
     },
     "execution_count": 17,
     "metadata": {},
     "output_type": "execute_result"
    }
   ],
   "source": [
    "\"\"\"\n",
    "# 筛选器配置示例\n",
    "filters = {\n",
    "    \"format\": \"PDF\",\n",
    "    \"powerBIReportConfiguration\": {\n",
    "        \"settings\": {\n",
    "            \"locale\": \"en-US\"\n",
    "        },\n",
    "        \"identities\": [\n",
    "            {\n",
    "                \"username\": \"effective_user@domain.com\",  # 可选的用户身份\n",
    "                \"roles\": [\"RoleName\"],  # 可选的角色\n",
    "                \"datasets\": [\"dataset_id\"]  # 可选的数据集ID\n",
    "            }\n",
    "        ],\n",
    "        \"filters\": [\n",
    "            {\n",
    "                \"filter\": \"TableName/ColumnName\",  # 表名/列名\n",
    "                \"operator\": \"In\",  # 操作符：In, NotIn, Contains, DoesNotContain等\n",
    "                \"values\": [\"Value1\", \"Value2\"]  # 筛选值\n",
    "            },\n",
    "            # 可以添加多个筛选器\n",
    "            {\n",
    "                \"filter\": \"AnotherTable/AnotherColumn\",\n",
    "                \"operator\": \"In\",\n",
    "                \"values\": [\"Value3\"]\n",
    "            }\n",
    "        ]\n",
    "    }\n",
    "}\n",
    "\"\"\""
   ]
  },
  {
   "cell_type": "code",
   "execution_count": 18,
   "id": "b3279590",
   "metadata": {},
   "outputs": [
    {
     "data": {
      "text/plain": [
       "'\\n基本筛选:\\n\\n{\\n    \"filter\": \"Sales[Region]\",\\n    \"operator\": \"In\",\\n    \"values\": [\"East\", \"West\"]\\n}\\n\\n多条件组合筛选：\\n{\\n    \"filter\": \"(Sales[Region] = \\'East\\' and Sales[Amount] > 1000) or (Sales[Region] = \\'West\\' and Sales[Amount] < 500)\"\\n}\\n\\n日期范围筛选:\\n{\\n    \"filter\": \"Sales[Date]\",\\n    \"operator\": \"In\",\\n    \"values\": [\"2023-01-01\", \"2023-12-31\"]\\n}\\n\\n'"
      ]
     },
     "execution_count": 18,
     "metadata": {},
     "output_type": "execute_result"
    }
   ],
   "source": [
    "\"\"\"\n",
    "基本筛选:\n",
    "\n",
    "{\n",
    "    \"filter\": \"Sales[Region]\",\n",
    "    \"operator\": \"In\",\n",
    "    \"values\": [\"East\", \"West\"]\n",
    "}\n",
    "\n",
    "多条件组合筛选：\n",
    "{\n",
    "    \"filter\": \"(Sales[Region] = 'East' and Sales[Amount] > 1000) or (Sales[Region] = 'West' and Sales[Amount] < 500)\"\n",
    "}\n",
    "\n",
    "日期范围筛选:\n",
    "{\n",
    "    \"filter\": \"Sales[Date]\",\n",
    "    \"operator\": \"In\",\n",
    "    \"values\": [\"2023-01-01\", \"2023-12-31\"]\n",
    "}\n",
    "\n",
    "\"\"\"\n"
   ]
  },
  {
   "cell_type": "markdown",
   "id": "b22d3084",
   "metadata": {},
   "source": [
    "### With Filter"
   ]
  },
  {
   "cell_type": "code",
   "execution_count": 41,
   "id": "d5f7a659",
   "metadata": {},
   "outputs": [
    {
     "name": "stdout",
     "output_type": "stream",
     "text": [
      "导出已开始, ID: Mi9CbG9iSWRWMi0wMDdhMzQxNS04Njg2LTQ1ZWItYTUzNi1lNjJjMWJkZDcxYjR5b1Y4WmV5WkhxYWsybkpjazV3eU1OUEtGMnhRLnAwWG5kUC5CLg==\n",
      "导出状态: Running，等待 5 秒...\n",
      "导出状态: Running，等待 5 秒...\n",
      "导出状态: Running，等待 5 秒...\n",
      "导出成功！\n",
      "PDF 已保存到本地！\n"
     ]
    }
   ],
   "source": [
    "# 配置导出参数\n",
    "export_params = {\n",
    "        \"format\": \"PDF\",\n",
    "        \"powerBIReportConfiguration\": {\n",
    "            \"settings\": {\n",
    "                \"locale\": \"en-US\"  # 可选：设置语言\n",
    "            },\n",
    "            \"pages\": [],  # 可选：指定要导出的页面（空数组表示全部）\n",
    "            \"filters\": [\n",
    "                {\n",
    "                    \"filter\": \"financials(2)[Country]\",  # 表名/列名\n",
    "                    \"operator\": \"In\",  # 操作符：In, NotIn, Contains, DoesNotContain等\n",
    "                    \"values\": [\"Canada\"]  # 筛选值\n",
    "                }\n",
    "            ]\n",
    "        }\n",
    "}\n",
    "\n",
    "#  4. 发起导出请求\n",
    "response = requests.post(\n",
    "    export_url,\n",
    "    headers=headers,\n",
    "    json=export_params\n",
    ")\n",
    "\n",
    "# 5. 检查导出状态\n",
    "if response.status_code == 202:\n",
    "    export_id = response.headers.get(\"Location\").split(\"/\")[-1]\n",
    "    print(f\"导出已开始, ID: {export_id}\")\n",
    "    \n",
    "    # 6. 轮询导出状态\n",
    "    status_url = f\"https://api.powerbi.com/v1.0/myorg/groups/{group_id}/reports/{report_id}/exports/{export_id}\"\n",
    "    \n",
    "    import time\n",
    "    while True:\n",
    "        status_response = requests.get(status_url, headers=headers)\n",
    "        status_data = status_response.json()\n",
    "        \n",
    "        if status_data[\"status\"] == \"Succeeded\":\n",
    "            print(\"导出成功！\")\n",
    "            break\n",
    "        elif status_data[\"status\"] == \"Failed\":\n",
    "            print(f\"导出失败: {status_data.get('error', '未知错误')}\")\n",
    "            break\n",
    "        else:\n",
    "            print(f\"导出状态: {status_data['status']}，等待 5 秒...\")\n",
    "            time.sleep(5)\n",
    "    \n",
    "    # 7. 下载 PDF\n",
    "    if status_data[\"status\"] == \"Succeeded\":\n",
    "        pdf_url = status_data[\"resourceLocation\"]\n",
    "        pdf_response = requests.get(pdf_url, headers=headers)\n",
    "        \n",
    "        with open(\"exported_report.pdf\", \"wb\") as f:\n",
    "            f.write(pdf_response.content)\n",
    "        print(\"PDF 已保存到本地！\")\n",
    "else:\n",
    "    print(f\"导出请求失败: {response.status_code} - {response.text}\")"
   ]
  },
  {
   "cell_type": "code",
   "execution_count": null,
   "id": "0cfbb6b4",
   "metadata": {},
   "outputs": [],
   "source": []
  }
 ],
 "metadata": {
  "kernelspec": {
   "display_name": "Python 3",
   "language": "python",
   "name": "python3"
  },
  "language_info": {
   "codemirror_mode": {
    "name": "ipython",
    "version": 3
   },
   "file_extension": ".py",
   "mimetype": "text/x-python",
   "name": "python",
   "nbconvert_exporter": "python",
   "pygments_lexer": "ipython3",
   "version": "3.12.9"
  }
 },
 "nbformat": 4,
 "nbformat_minor": 5
}
